{
 "cells": [
  {
   "cell_type": "code",
   "outputs": [],
   "source": [
    "for i in [1,2,3,4]:\n",
    "    print(i)"
   ],
   "metadata": {
    "collapsed": false
   },
   "id": "c34a9b580e159916",
   "execution_count": null
  },
  {
   "cell_type": "code",
   "outputs": [
    {
     "name": "stdout",
     "output_type": "stream",
     "text": [
      "Wynik: 0\n"
     ]
    }
   ],
   "source": [
    "x = int(input())\n",
    "y = 5 * (x == 10)\n",
    "print(f\"Wynik: {y}\")"
   ],
   "metadata": {
    "collapsed": false,
    "ExecuteTime": {
     "end_time": "2024-03-07T10:18:58.728063Z",
     "start_time": "2024-03-07T10:18:57.811818Z"
    }
   },
   "id": "be7d22c057096acc",
   "execution_count": 40
  },
  {
   "cell_type": "code",
   "outputs": [
    {
     "name": "stdout",
     "output_type": "stream",
     "text": [
      "          *\n",
      "         ###\n",
      "        #####\n",
      "       #######\n",
      "      #########\n",
      "     ###########\n",
      "    #############\n",
      "   ###############\n",
      "  #################\n",
      " ###################\n",
      "#####################\n",
      "         | |\n"
     ]
    }
   ],
   "source": [
    "n = 10\n",
    "for i in range(n + 1):\n",
    "    print(\" \" * (n - i)+ \"*\" * (i == 0)+\"#\"*(2 * i + 1)*(i>0))\n",
    "print(\" \" * (i - 1) + \"| |\")"
   ],
   "metadata": {
    "collapsed": false,
    "ExecuteTime": {
     "end_time": "2024-03-07T10:32:40.193482Z",
     "start_time": "2024-03-07T10:32:40.189066Z"
    }
   },
   "id": "a93291b9e1c6a9d7",
   "execution_count": 44
  },
  {
   "cell_type": "code",
   "outputs": [],
   "source": [
    "import  string\n",
    "text = \"Alama Kota Mrucka\".lower()\n",
    "d1 = dict([[i,text.count(i)] for i in string.ascii_lowercase])"
   ],
   "metadata": {
    "collapsed": false,
    "ExecuteTime": {
     "end_time": "2024-03-07T10:55:33.546106Z",
     "start_time": "2024-03-07T10:55:33.540134Z"
    }
   },
   "id": "9222f5535a845bd5",
   "execution_count": 46
  },
  {
   "cell_type": "code",
   "outputs": [
    {
     "data": {
      "text/plain": "{'a': 5,\n 'b': 0,\n 'c': 1,\n 'd': 0,\n 'e': 0,\n 'f': 0,\n 'g': 0,\n 'h': 0,\n 'i': 0,\n 'j': 0,\n 'k': 2,\n 'l': 1,\n 'm': 2,\n 'n': 0,\n 'o': 1,\n 'p': 0,\n 'q': 0,\n 'r': 1,\n 's': 0,\n 't': 1,\n 'u': 1,\n 'v': 0,\n 'w': 0,\n 'x': 0,\n 'y': 0,\n 'z': 0}"
     },
     "execution_count": 47,
     "metadata": {},
     "output_type": "execute_result"
    }
   ],
   "source": [
    "d1\n"
   ],
   "metadata": {
    "collapsed": false,
    "ExecuteTime": {
     "end_time": "2024-03-07T10:55:37.962630Z",
     "start_time": "2024-03-07T10:55:37.946829Z"
    }
   },
   "id": "cb90c5aa995c7cf5",
   "execution_count": 47
  },
  {
   "cell_type": "code",
   "outputs": [],
   "source": [
    "#Zajecia nr 3"
   ],
   "metadata": {
    "collapsed": false,
    "ExecuteTime": {
     "end_time": "2024-03-14T09:06:05.992630Z",
     "start_time": "2024-03-14T09:06:05.989627Z"
    }
   },
   "id": "3ec84e4e9a4ceb94",
   "execution_count": 1
  },
  {
   "cell_type": "code",
   "outputs": [],
   "source": [
    "def kwadrat(x):\n",
    "    return x**2"
   ],
   "metadata": {
    "collapsed": false,
    "ExecuteTime": {
     "end_time": "2024-03-14T09:09:58.784138Z",
     "start_time": "2024-03-14T09:09:58.771929Z"
    }
   },
   "id": "75a2c0fa4087af3c",
   "execution_count": 2
  },
  {
   "cell_type": "code",
   "outputs": [
    {
     "data": {
      "text/plain": "225"
     },
     "execution_count": 3,
     "metadata": {},
     "output_type": "execute_result"
    }
   ],
   "source": [
    "kwadrat(15)"
   ],
   "metadata": {
    "collapsed": false,
    "ExecuteTime": {
     "end_time": "2024-03-14T09:10:12.707985Z",
     "start_time": "2024-03-14T09:10:12.700852Z"
    }
   },
   "id": "5e0b5e0cb0149634",
   "execution_count": 3
  },
  {
   "cell_type": "code",
   "outputs": [],
   "source": [
    "def concat(s1,s2 = 'nie ma',s3 = 'nic'):\n",
    "    return s1 + s2 + s3"
   ],
   "metadata": {
    "collapsed": false,
    "ExecuteTime": {
     "end_time": "2024-03-14T09:13:04.438437Z",
     "start_time": "2024-03-14T09:13:04.434482Z"
    }
   },
   "id": "13f6ef01a04365b3",
   "execution_count": 5
  },
  {
   "cell_type": "code",
   "outputs": [
    {
     "data": {
      "text/plain": "' nie manic'"
     },
     "execution_count": 6,
     "metadata": {},
     "output_type": "execute_result"
    }
   ],
   "source": [
    "concat(' ')"
   ],
   "metadata": {
    "collapsed": false,
    "ExecuteTime": {
     "end_time": "2024-03-14T09:13:25.958754Z",
     "start_time": "2024-03-14T09:13:25.953391Z"
    }
   },
   "id": "62c95f9c7c4de633",
   "execution_count": 6
  },
  {
   "cell_type": "code",
   "outputs": [],
   "source": [
    "#nie ma znaczenia czy ' ' czy \" \" "
   ],
   "metadata": {
    "collapsed": false,
    "ExecuteTime": {
     "end_time": "2024-03-14T09:15:30.792158Z",
     "start_time": "2024-03-14T09:15:30.790091Z"
    }
   },
   "id": "b7600331e35be207",
   "execution_count": 8
  },
  {
   "cell_type": "code",
   "outputs": [
    {
     "name": "stdout",
     "output_type": "stream",
     "text": [
      " to jest\n",
      "tekst po czterech spacjach\n",
      "...\n"
     ]
    }
   ],
   "source": [
    "print (\"\"\" to jest\n",
    "tekst po czterech spacjach\n",
    "...\"\"\")"
   ],
   "metadata": {
    "collapsed": false,
    "ExecuteTime": {
     "end_time": "2024-03-14T09:18:02.653844Z",
     "start_time": "2024-03-14T09:18:02.647940Z"
    }
   },
   "id": "6d5798e283aa3f4a",
   "execution_count": 9
  },
  {
   "cell_type": "code",
   "outputs": [
    {
     "name": "stdout",
     "output_type": "stream",
     "text": [
      "Unexpected exception formatting exception. Falling back to standard exception\n"
     ]
    },
    {
     "name": "stderr",
     "output_type": "stream",
     "text": [
      "Traceback (most recent call last):\n",
      "  File \"/Users/krystianwasil/PycharmProjects/python1/wyklad2/.venv/lib/python3.9/site-packages/IPython/core/interactiveshell.py\", line 3550, in run_code\n",
      "  File \"/var/folders/yj/6mz9gvzn16ncytz16dp_r68c0000gn/T/ipykernel_1523/490669575.py\", line 1, in <module>\n",
      "    concat(\"Ola\", \"posiada\", s1 = \"Ela\")\n",
      "TypeError: concat() got multiple values for argument 's1'\n",
      "\n",
      "During handling of the above exception, another exception occurred:\n",
      "\n",
      "Traceback (most recent call last):\n",
      "  File \"/Users/krystianwasil/PycharmProjects/python1/wyklad2/.venv/lib/python3.9/site-packages/pygments/styles/__init__.py\", line 45, in get_style_by_name\n",
      "ModuleNotFoundError: No module named 'pygments.styles.default'\n",
      "\n",
      "During handling of the above exception, another exception occurred:\n",
      "\n",
      "Traceback (most recent call last):\n",
      "  File \"/Users/krystianwasil/PycharmProjects/python1/wyklad2/.venv/lib/python3.9/site-packages/IPython/core/interactiveshell.py\", line 2144, in showtraceback\n",
      "  File \"/Users/krystianwasil/PycharmProjects/python1/wyklad2/.venv/lib/python3.9/site-packages/IPython/core/ultratb.py\", line 1435, in structured_traceback\n",
      "  File \"/Users/krystianwasil/PycharmProjects/python1/wyklad2/.venv/lib/python3.9/site-packages/IPython/core/ultratb.py\", line 1326, in structured_traceback\n",
      "  File \"/Users/krystianwasil/PycharmProjects/python1/wyklad2/.venv/lib/python3.9/site-packages/IPython/core/ultratb.py\", line 1173, in structured_traceback\n",
      "  File \"/Users/krystianwasil/PycharmProjects/python1/wyklad2/.venv/lib/python3.9/site-packages/IPython/core/ultratb.py\", line 1063, in format_exception_as_a_whole\n",
      "  File \"/Users/krystianwasil/PycharmProjects/python1/wyklad2/.venv/lib/python3.9/site-packages/IPython/core/ultratb.py\", line 1114, in get_records\n",
      "  File \"/Users/krystianwasil/PycharmProjects/python1/wyklad2/.venv/lib/python3.9/site-packages/pygments/styles/__init__.py\", line 47, in get_style_by_name\n",
      "pygments.util.ClassNotFound: Could not find style module 'pygments.styles.default', though it should be builtin.\n"
     ]
    }
   ],
   "source": [
    "concat(\"Ola\", \"posiada\", s1 = \"Ela\") #zle "
   ],
   "metadata": {
    "collapsed": false,
    "ExecuteTime": {
     "end_time": "2024-03-14T09:20:20.778392Z",
     "start_time": "2024-03-14T09:20:20.759386Z"
    }
   },
   "id": "af36e4f584b6d6c4",
   "execution_count": 10
  },
  {
   "cell_type": "code",
   "outputs": [],
   "source": [
    "def concat(s1, /, s2, *, s3):\n",
    " pass #trzeba pilnowac pozycji i pass nic nie zwraca"
   ],
   "metadata": {
    "collapsed": false,
    "ExecuteTime": {
     "end_time": "2024-03-14T09:23:07.543115Z",
     "start_time": "2024-03-14T09:23:07.539005Z"
    }
   },
   "id": "b437ed0e8757fdb4",
   "execution_count": 11
  },
  {
   "cell_type": "code",
   "outputs": [],
   "source": [
    "def rozszerz(l = [], element = ['x']):\n",
    "    l.append(element)\n",
    "    return l"
   ],
   "metadata": {
    "collapsed": false,
    "ExecuteTime": {
     "end_time": "2024-03-14T09:24:06.985466Z",
     "start_time": "2024-03-14T09:24:06.974243Z"
    }
   },
   "id": "8ecba37e8a90e0f0",
   "execution_count": 13
  },
  {
   "cell_type": "code",
   "outputs": [
    {
     "name": "stdout",
     "output_type": "stream",
     "text": [
      "[['x'], ['x'], ['x'], ['x']]\n"
     ]
    }
   ],
   "source": [
    "print(rozszerz()) #kazde wywolanie zapisuje ten element jescze raz, czyli aktualizuje na zawsze"
   ],
   "metadata": {
    "collapsed": false,
    "ExecuteTime": {
     "end_time": "2024-03-14T09:24:37.331944Z",
     "start_time": "2024-03-14T09:24:37.327185Z"
    }
   },
   "id": "935a736036549d83",
   "execution_count": 17
  },
  {
   "cell_type": "code",
   "outputs": [],
   "source": [
    "def rozszerz(l = None, element = ['x']):\n",
    "    if l == None:\n",
    "        l = []\n",
    "    l.append(element)\n",
    "    return l"
   ],
   "metadata": {
    "collapsed": false,
    "ExecuteTime": {
     "end_time": "2024-03-14T09:28:40.779988Z",
     "start_time": "2024-03-14T09:28:40.769961Z"
    }
   },
   "id": "9185feb7d86ce29d",
   "execution_count": 18
  },
  {
   "cell_type": "code",
   "outputs": [
    {
     "name": "stdout",
     "output_type": "stream",
     "text": [
      "[['x']]\n"
     ]
    }
   ],
   "source": [
    "print(rozszerz())"
   ],
   "metadata": {
    "collapsed": false,
    "ExecuteTime": {
     "end_time": "2024-03-14T09:28:54.299786Z",
     "start_time": "2024-03-14T09:28:54.295369Z"
    }
   },
   "id": "37a34c95e232b727",
   "execution_count": 21
  },
  {
   "cell_type": "code",
   "outputs": [],
   "source": [
    "def f(a, b=None):\n",
    "    if b == None:\n",
    "        b = a\n",
    "    print(a)\n",
    "    print(b)"
   ],
   "metadata": {
    "collapsed": false,
    "ExecuteTime": {
     "end_time": "2024-03-14T09:31:40.974217Z",
     "start_time": "2024-03-14T09:31:40.970341Z"
    }
   },
   "id": "d2d18bd5e5d14631",
   "execution_count": 25
  },
  {
   "cell_type": "code",
   "outputs": [
    {
     "name": "stdout",
     "output_type": "stream",
     "text": [
      "Marek\n",
      "Marek\n"
     ]
    }
   ],
   "source": [
    "f(\"Marek\")"
   ],
   "metadata": {
    "collapsed": false,
    "ExecuteTime": {
     "end_time": "2024-03-14T09:32:04.674049Z",
     "start_time": "2024-03-14T09:32:04.669054Z"
    }
   },
   "id": "9d4300d7d7b8ba15",
   "execution_count": 26
  },
  {
   "cell_type": "code",
   "outputs": [],
   "source": [
    "##Sigmmmma"
   ],
   "metadata": {
    "collapsed": false,
    "ExecuteTime": {
     "end_time": "2024-03-14T09:32:13.065725Z",
     "start_time": "2024-03-14T09:32:13.062049Z"
    }
   },
   "id": "a26d4de913b9f2f0",
   "execution_count": 27
  },
  {
   "cell_type": "code",
   "outputs": [],
   "source": [],
   "metadata": {
    "collapsed": false
   },
   "id": "2469a23563be8f3b"
  }
 ],
 "metadata": {
  "kernelspec": {
   "display_name": "Python 3",
   "language": "python",
   "name": "python3"
  },
  "language_info": {
   "codemirror_mode": {
    "name": "ipython",
    "version": 2
   },
   "file_extension": ".py",
   "mimetype": "text/x-python",
   "name": "python",
   "nbconvert_exporter": "python",
   "pygments_lexer": "ipython2",
   "version": "2.7.6"
  }
 },
 "nbformat": 4,
 "nbformat_minor": 5
}
